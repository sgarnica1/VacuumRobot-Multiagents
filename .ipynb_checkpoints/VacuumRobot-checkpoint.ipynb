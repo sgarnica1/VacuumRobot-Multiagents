{
 "cells": [
  {
   "cell_type": "markdown",
   "id": "10e2a6c8-b2f0-472d-bfe9-315142dafeec",
   "metadata": {},
   "source": [
    "# Robot de Limpieza Reactivo\n",
    "Este modelo estudia las estadísticas de un robot de limpieza reactivo, donde se recopila la siguiente información:\n",
    "* Tiempo necesario hasta que todas las celdas estén limpias (o se haya llegado al tiempo máximo).\r",
    "* Porcentaje de celdas limpias después del termino de la simulación.\n",
    "* \n",
    "Número de movimientos realizados por todos los agentes."
   ]
  },
  {
   "cell_type": "markdown",
   "id": "7c2b2f97-7cd5-45ed-9edf-0091db9e09e4",
   "metadata": {},
   "source": [
    "## Datos proporcionados\n",
    "* Habitación de MxN espacios\n",
    "* Número de agentes\n",
    "* Porcentaje de celdas inicialmente sucias\n",
    "* Tiempo máximo de ejecución"
   ]
  },
  {
   "cell_type": "markdown",
   "id": "1f5f0605-0fd2-4651-aeae-f663c36abd7a",
   "metadata": {},
   "source": [
    "## Reglas\n",
    "Las reglas del modelo son:\n",
    "* Inicializa las celdas sucias (ubicaciones aleatorias).\r",
    "* Todos los agentes empiezan en la celda [1,1].\r",
    "* En cada paso de tiempo:\r",
    "    * Si la celda está sucia, entonces aspira.\n",
    "    * Si la celda está limpia, el agente elije una dirección aleatoria para moverse (unas de las 8 celdas vecinas) y elije la acción de movimiento (si no puede moverse allí, permanecerá en la misma celda)\n",
    "    * Se ejecuta el tiempo máximo estable\n",
    "\n",
    "Para un espacio de 100x100, considera los siguientes escenarios:\r",
    "* Escenario 1: 1 agente, 90% de celdas sucias\n",
    "* \n",
    "Escenario 2. 2 agentes, 90% de celdas sciasi\n",
    "\n",
    "Deberás resolver las siguientes pregunta:\n",
    "* \r\n",
    "¿Cuántos pasos de simulación toma limpiar todo el eacio* * ?\r\n",
    "¿Qué porcentaje de celdas sucias queda con los siguientes pasos de simulación: 100, 1000, 0?\n",
    "\n",
    "0?\r\n",
    "A continuación, determina cuál es la cantidad óptima de aspiradoras que debe de tener para realizar la limpieza en el menor tiempo posible. Considera que tenemos un máximo de 10 aspiradoras disponibles.as."
   ]
  },
  {
   "cell_type": "markdown",
   "id": "5767b7df-1b57-429e-b951-a0bce17782b7",
   "metadata": {},
   "source": [
    "## Imports\n",
    "\n",
    "Antes de empezar a crear el modelo del juego de la vida con multiagentes es necesario tener instalado los siguientes paquetes:\n",
    "- `python`: asegúrense de usar la versión 3+.\n",
    "- `mesa`: el framework de Python para el modelado de agentes.\n",
    "- `numpy`: es una biblioteca de Python para el manejo de matrices, arreglos, manipulación matemática, lógica y mucho más.\n",
    "- `matplotlib`: es una biblioteca para crear visualizaciones estáticas, animadas e interactivas en Python.\n",
    "\n",
    "Para poder modelar a los integrantes de nuestro sistema usando el framework de `mesa` es necesario importar dos clases: una para el modelo general, y otro para los agentes."
   ]
  },
  {
   "cell_type": "code",
   "execution_count": 14,
   "id": "c5c48704-8172-46b3-a284-ad9493affcc1",
   "metadata": {},
   "outputs": [],
   "source": [
    "from mesa import Agent, Model\n",
    "from mesa.time import RandomActivation\n",
    "from mesa.space import MultiGrid\n",
    "from mesa.datacollection import DataCollector\n",
    "from mesa.batchrunner import batch_run\n",
    "\n",
    "import numpy as np\n",
    "import pandas as pd\n",
    "\n",
    "# matplotlib lo usaremos crear una animación de cada uno de los pasos del modelo.\n",
    "%matplotlib inline\n",
    "import matplotlib\n",
    "import matplotlib.pyplot as plt\n",
    "import matplotlib.animation as animation\n",
    "from matplotlib.patches import Rectangle\n",
    "plt.rcParams[\"animation.html\"] = \"jshtml\"\n",
    "matplotlib.rcParams['animation.embed_limit'] = 2**128\n",
    "\n",
    "# Importamos los siguientes paquetes para el mejor manejo de valores numéricos.\n",
    "import numpy as np\n",
    "import pandas as pd\n",
    "\n",
    "# Definimos otros paquetes que vamos a usar para medir el tiempo de ejecución de nuestro algoritmo.\n",
    "import time\n",
    "import datetime"
   ]
  },
  {
   "cell_type": "code",
   "execution_count": 2,
   "id": "1276341f-145a-4524-ba8d-e5310e9291d1",
   "metadata": {},
   "outputs": [],
   "source": [
    "class VacuumAgent(Agent):\n",
    "    def __init__(self, id, model, x, y):\n",
    "        super().__init__(id, model)\n",
    "        self.x = x\n",
    "        self.y = y\n",
    "        self.position = np.array((x, y))\n",
    "        self.movements = 0\n",
    "\n",
    "    def step(self):\n",
    "        # Clean cell\n",
    "        if model.dirty_cells[self.x][self.y] == 1:\n",
    "            model.dirty_cells[self.x][self.y] = 0\n",
    "\n",
    "        ops = [-1, 0, 1]\n",
    "        self.x += self.random.choice(ops)\n",
    "        self.y += self.random.choice(ops)\n",
    "\n",
    "        neighbors = self.model.grid.get_neighbors(self.pos, moore = False, include_center = False)\n",
    "        \n",
    "        if self.x >= model.grid.width: \n",
    "            self.x = model.grid.width - 1\n",
    "        elif self.x < 0:\n",
    "            self.x = 0\n",
    "\n",
    "        if self.y >= model.grid.height: \n",
    "            self.y = model.grid.height - 1\n",
    "        elif self.y < 0:\n",
    "            self.y = 0\n",
    "        \n",
    "        self.movements += 1\n",
    "        self.position = np.array((self.x, self.y))"
   ]
  },
  {
   "cell_type": "code",
   "execution_count": 3,
   "id": "07bb03c4-c4ef-49c6-a819-18446a468e15",
   "metadata": {},
   "outputs": [],
   "source": [
    "def get_vacuums(model):\n",
    "    return np.asarray([agent.position for agent in model.schedule.agents])"
   ]
  },
  {
   "cell_type": "code",
   "execution_count": 4,
   "id": "cd1a5cd9-6ab4-4ad3-ad14-db3336d5e82e",
   "metadata": {},
   "outputs": [],
   "source": [
    "class VacuumModel(Model):\n",
    "    def __init__(self, num_agents, width, height, dirty_cells_percent):\n",
    "        self.schedule = RandomActivation(self)\n",
    "        self.grid = MultiGrid(width, height, torus = False)\n",
    "        self.datacollector = DataCollector(model_reporters={\"Vacuums\": get_vacuums})\n",
    "        self.dirty_cells_percent = dirty_cells_percent\n",
    "        self.dirty_cells = np.zeros((width, height))\n",
    "\n",
    "        dc = int(width * height * (dirty_cells_percent / 100))\n",
    "        total_dc = 0\n",
    "        \n",
    "        while total_dc < dc:\n",
    "            x = int(np.random.rand() * width)\n",
    "            y = int(np.random.rand() * height)\n",
    "            if self.dirty_cells[x][y] == 0:\n",
    "                self.dirty_cells[x][y] = 1\n",
    "                total_dc += 1\n",
    "\n",
    "        for i in range(num_agents):\n",
    "            x = 1\n",
    "            y = 1\n",
    "            agent = VacuumAgent(i, self, x, y)\n",
    "            self.schedule.add(agent)\n",
    "            self.grid.place_agent(agent, (x, y))\n",
    "\n",
    "    def step(self):\n",
    "        self.datacollector.collect(self)\n",
    "        self.schedule.step()"
   ]
  },
  {
   "cell_type": "code",
   "execution_count": 5,
   "id": "190e3b75-fc05-41b0-b017-e8fe32d197c5",
   "metadata": {},
   "outputs": [
    {
     "name": "stdout",
     "output_type": "stream",
     "text": [
      "Dirty cells: 9000\n",
      "Dirty cells: 8905\n"
     ]
    }
   ],
   "source": [
    "WIDTH = 100\n",
    "HEIGHT = 100\n",
    "NUM_VACUUMS = 2\n",
    "DIRTY_CELLS_PERCENT = 90\n",
    "MAX_ITERATIONS = 100\n",
    "\n",
    "\n",
    "model = VacuumModel(NUM_VACUUMS, WIDTH, HEIGHT, DIRTY_CELLS_PERCENT)\n",
    "\n",
    "dc = 0\n",
    "for i in range(WIDTH):\n",
    "    for j in range(HEIGHT):\n",
    "        if model.dirty_cells[i][j] == 1:\n",
    "            dc += 1\n",
    "\n",
    "print(f\"Dirty cells: {dc}\")\n",
    "\n",
    "for i in range(MAX_ITERATIONS):\n",
    "    model.step()\n",
    "\n",
    "dc = 0\n",
    "for i in range(WIDTH):\n",
    "    for j in range(HEIGHT):\n",
    "        if model.dirty_cells[i][j] == 1:\n",
    "            dc += 1\n",
    "\n",
    "print(f\"Dirty cells: {dc}\")"
   ]
  },
  {
   "cell_type": "code",
   "execution_count": 6,
   "id": "e5fb7c41-bb59-4161-bbde-e4117ca641aa",
   "metadata": {},
   "outputs": [],
   "source": [
    "all_positions = model.datacollector.get_model_vars_dataframe()"
   ]
  },
  {
   "cell_type": "code",
   "execution_count": null,
   "id": "1fb286ba-8d72-4292-98ba-d79950881a07",
   "metadata": {},
   "outputs": [],
   "source": [
    "fig, ax = plt.subplots(figsize=(3, 3))\n",
    "scatter = ax.scatter(all_positions.iloc[0][0][:,0], all_positions.iloc[0][0][:,1], s=10, edgecolor=\"k\")\n",
    "ax.axis([0, WIDTH, 0, HEIGHT])\n",
    "\n",
    "# Define the grid cell size\n",
    "num_cells_x = WIDTH\n",
    "num_cells_y = HEIGHT\n",
    "cell_width = WIDTH / num_cells_x  # Define num_cells_x as the number of grid cells in the x direction\n",
    "cell_height = HEIGHT / num_cells_y  # Define num_cells_y as the number of grid cells in the y direction\n",
    "\n",
    "# Define the grid cell color\n",
    "cell_color = 'gray'\n",
    "\n",
    "# Loop to paint the grid cells\n",
    "for x in range(num_cells_x):\n",
    "    for y in range(num_cells_y):\n",
    "        rect = Rectangle((x * cell_width, y * cell_height), cell_width, cell_height, fill=True, color=cell_color)\n",
    "        ax.add_patch(rect)\n",
    "\n",
    "def animate(i):\n",
    "    scatter.set_offsets(all_positions.iloc[i][0])\n",
    "    return scatter\n",
    "\n",
    "anim = animation.FuncAnimation(fig, animate, frames = MAX_ITERATIONS)"
   ]
  },
  {
   "cell_type": "code",
   "execution_count": null,
   "id": "a7ffa29b-f685-4e88-b6f4-b4b49cabcd3d",
   "metadata": {},
   "outputs": [],
   "source": [
    "anim"
   ]
  },
  {
   "cell_type": "code",
   "execution_count": null,
   "id": "dada6513-6e7e-4f95-b85d-ffc73282631b",
   "metadata": {},
   "outputs": [],
   "source": []
  }
 ],
 "metadata": {
  "kernelspec": {
   "display_name": "Python 3 (ipykernel)",
   "language": "python",
   "name": "python3"
  },
  "language_info": {
   "codemirror_mode": {
    "name": "ipython",
    "version": 3
   },
   "file_extension": ".py",
   "mimetype": "text/x-python",
   "name": "python",
   "nbconvert_exporter": "python",
   "pygments_lexer": "ipython3",
   "version": "3.11.0"
  }
 },
 "nbformat": 4,
 "nbformat_minor": 5
}
