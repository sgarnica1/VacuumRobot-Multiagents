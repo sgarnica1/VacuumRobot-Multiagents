{
 "cells": [
  {
   "cell_type": "markdown",
   "id": "10e2a6c8-b2f0-472d-bfe9-315142dafeec",
   "metadata": {},
   "source": [
    "# Robot de Limpieza Reactivo\n",
    "Este modelo estudia las estadísticas de un robot de limpieza reactivo, donde se recopila información"
   ]
  },
  {
   "cell_type": "markdown",
   "id": "7c2b2f97-7cd5-45ed-9edf-0091db9e09e4",
   "metadata": {},
   "source": [
    "## Datos proporcionados\n",
    "* Habitación de MxN espacios\n",
    "* Número de agentes\n",
    "* Porcentaje de celdas inicialmente sucias\n",
    "* Tiempo máximo de ejecución"
   ]
  },
  {
   "cell_type": "markdown",
   "id": "1f5f0605-0fd2-4651-aeae-f663c36abd7a",
   "metadata": {},
   "source": [
    "## Reglas\n",
    "Las reglas del modelo son:\n",
    "* Inicializa las celdas sucias (ubicaciones aleatorias).\n",
    "* Todos los agentes empiezan en la celda [1,1].\n",
    "* En cada paso de tiempo:\n",
    "    * Si la celda está sucia, entonces aspira.\n",
    "    * Si la celda está limpia, el agente elije una dirección aleatoria para moverse (unas de las 8 celdas vecinas) y elije la acción de movimiento (si no puede moverse allí, permanecerá en la misma celda)\n",
    "* Se ejecuta el tiempo máximo establecido\n",
    "\n",
    "Para un espacio de 100x100, considera los siguientes escenarios:\n",
    "* Escenario 1: 1 agente, 90% de celdas sucias\n",
    "* Escenario 2. 2 agentes, 90% de celdas sucias\n",
    "\n",
    "Deberás resolver las siguientes preguntas:\n",
    "* ¿Cuántos pasos de simulación toma limpiar todo el espacio?\n",
    "* ¿Qué porcentaje de celdas sucias queda con los siguientes pasos de simulación: 100, 1000, 10,000?\n",
    "\n",
    "A continuación, determina cuál es la cantidad óptima de aspiradoras que debe de tener para realizar la limpieza en el menor tiempo posible. Considera que tenemos un máximo de 10 aspiradoras disponibles."
   ]
  },
  {
   "cell_type": "markdown",
   "id": "5767b7df-1b57-429e-b951-a0bce17782b7",
   "metadata": {},
   "source": [
    "## Imports\n",
    "\n",
    "Antes de empezar a crear el modelo del juego de la vida con multiagentes es necesario tener instalado los siguientes paquetes:\n",
    "- `python`: asegúrense de usar la versión 3+.\n",
    "- `mesa`: el framework de Python para el modelado de agentes.\n",
    "- `numpy`: es una biblioteca de Python para el manejo de matrices, arreglos, manipulación matemática, lógica y mucho más.\n",
    "- `matplotlib`: es una biblioteca para crear visualizaciones estáticas, animadas e interactivas en Python.\n",
    "\n",
    "Para poder modelar a los integrantes de nuestro sistema usando el framework de `mesa` es necesario importar dos clases: una para el modelo general, y otro para los agentes."
   ]
  },
  {
   "cell_type": "code",
   "execution_count": 845,
   "id": "c5c48704-8172-46b3-a284-ad9493affcc1",
   "metadata": {},
   "outputs": [],
   "source": [
    "from mesa import Agent, Model\n",
    "from mesa.time import RandomActivation\n",
    "from mesa.space import MultiGrid\n",
    "from mesa.datacollection import DataCollector\n",
    "from mesa.batchrunner import batch_run\n",
    "\n",
    "# Importamos los siguientes paquetes para el mejor manejo de valores numéricos.\n",
    "import numpy as np\n",
    "\n",
    "# Definimos otros paquetes que vamos a usar para medir el tiempo de ejecución de nuestro algoritmo.\n",
    "import time as tm"
   ]
  },
  {
   "cell_type": "code",
   "execution_count": 846,
   "id": "1276341f-145a-4524-ba8d-e5310e9291d1",
   "metadata": {},
   "outputs": [],
   "source": [
    "class VacuumAgent(Agent):\n",
    "    def __init__(self, id, model, x, y):\n",
    "        super().__init__(id, model)\n",
    "        self.position = (x, y)\n",
    "\n",
    "    def step(self):\n",
    "        if model.dirty_cells.sum() == 0:\n",
    "            model.running = False\n",
    "\n",
    "        x_pos = self.position[0]\n",
    "        y_pos = self.position[1]\n",
    "\n",
    "        # Clean cell\n",
    "        if model.dirty_cells[x_pos][y_pos] == 1:\n",
    "            model.dirty_cells[x_pos][y_pos] = 0\n",
    "\n",
    "        # Get new position\n",
    "        possible_cells = self.model.grid.get_neighborhood(self.position, moore=True, include_center = False)\n",
    "        new_position = self.random.choice(possible_cells)\n",
    "        cellmate = self.model.grid.get_cell_list_contents([new_position])\n",
    "\n",
    "        if cellmate:\n",
    "            return\n",
    "\n",
    "        self.position = new_position\n",
    "        self.model.grid.move_agent(self, self.position)"
   ]
  },
  {
   "cell_type": "code",
   "execution_count": 847,
   "id": "07bb03c4-c4ef-49c6-a819-18446a468e15",
   "metadata": {},
   "outputs": [],
   "source": [
    "def get_vacuums(model):\n",
    "    return np.asarray([agent.position for agent in model.schedule.agents])"
   ]
  },
  {
   "cell_type": "code",
   "execution_count": 848,
   "id": "cd1a5cd9-6ab4-4ad3-ad14-db3336d5e82e",
   "metadata": {},
   "outputs": [],
   "source": [
    "class VacuumModel(Model):\n",
    "    def __init__(self, num_agents, width, height, dirty_cells_percent):\n",
    "        self.schedule = RandomActivation(self)\n",
    "        self.grid = MultiGrid(width, height, torus = False)\n",
    "        self.datacollector = DataCollector(model_reporters={\"Vacuums\": get_vacuums})\n",
    "        self.dirty_cells = np.zeros((width, height))\n",
    "        self.dirty_cells_percent = dirty_cells_percent\n",
    "        self.running = True\n",
    "\n",
    "        # Initialize dirty cells\n",
    "        init_dc = 0\n",
    "        while init_dc < int(width * height * (dirty_cells_percent / 100)):\n",
    "            x = int(np.random.rand() * width)\n",
    "            y = int(np.random.rand() * height)\n",
    "            if self.dirty_cells[x][y] == 0:\n",
    "                self.dirty_cells[x][y] = 1\n",
    "                init_dc += 1\n",
    "\n",
    "        # Create agents and place them in [1, 1]\n",
    "        for i in range(num_agents):\n",
    "            x = 1\n",
    "            y = 1\n",
    "            agent = VacuumAgent(i, self, x, y)\n",
    "            self.schedule.add(agent)\n",
    "            self.grid.place_agent(agent, (x, y))\n",
    "\n",
    "    def step(self):\n",
    "        if self.running == False:\n",
    "            return\n",
    "\n",
    "        self.datacollector.collect(self)\n",
    "        self.schedule.step()"
   ]
  },
  {
   "cell_type": "code",
   "execution_count": 849,
   "id": "4a6a36fa-b62d-4043-8529-91bd2038bca7",
   "metadata": {},
   "outputs": [],
   "source": [
    "WIDTH = 100\n",
    "HEIGHT = 100\n",
    "DIRTY_CELLS_PERCENT = 90\n",
    "ITERATIONS = [100,1000,10000]"
   ]
  },
  {
   "cell_type": "code",
   "execution_count": 850,
   "metadata": {},
   "outputs": [],
   "source": [
    "def clean(model, iterations, num_vacuums):\n",
    "  print(\"[CLEAN CELLS]\")\n",
    "  print(f\"[AGENTS]: {num_vacuums}\\n\")\n",
    "\n",
    "  for itr in iterations:\n",
    "    time = tm.time()\n",
    "\n",
    "    # Print labels\n",
    "    print(\"Cleaning...\")\n",
    "    print(f\"[ITERATIONS]: {itr}\")\n",
    "\n",
    "    for i in range(itr):\n",
    "        model.step()\n",
    "\n",
    "        if model.running == False:\n",
    "           print(f\"[FINISHED AT ITERATION]: {i}\")\n",
    "           break\n",
    "\n",
    "    # Print model\n",
    "    dc = model.dirty_cells.sum()\n",
    "    dc_percent = dc / (WIDTH * HEIGHT) * 100\n",
    "    print(f\"[DIRTY CELLS LEFT]: {dc} ({round(dc_percent, 2)}%)\")\n",
    "    print(f\"[TIME]: {round(tm.time() - time, 4)} seconds\\n\")\n",
    "\n",
    "  print(f\"----------------------\\n\")"
   ]
  },
  {
   "cell_type": "code",
   "execution_count": 851,
   "metadata": {},
   "outputs": [],
   "source": [
    "def clean_all(model, num_vacuums):\n",
    "  time = tm.time()\n",
    "  steps = 0\n",
    "\n",
    "  # Print labels\n",
    "  print(\"[CLEAN ALL CELLS]\")\n",
    "  print(f\"[AGENTS]: {num_vacuums}\\n\")\n",
    "  print(\"Calculating time and steps to clean all cells...\")\n",
    "\n",
    "  while model.running == True:\n",
    "      model.step()\n",
    "      steps += 1\n",
    "\n",
    "  print(f\"[FINISHED AT]: {steps} steps\")\n",
    "\n",
    "  # Print time\n",
    "  print(f\"[TIME]: {round(tm.time() - time, 4)} seconds\\n\")\n",
    "  print(f\"----------------------\\n\")"
   ]
  },
  {
   "cell_type": "markdown",
   "metadata": {},
   "source": [
    "## Escenario 1\n",
    "* 1 agente\n",
    "* 90% de celdas sucias."
   ]
  },
  {
   "cell_type": "code",
   "execution_count": 852,
   "metadata": {},
   "outputs": [
    {
     "name": "stdout",
     "output_type": "stream",
     "text": [
      "[CLEAN ALL CELLS]\n",
      "[AGENTS]: 1\n",
      "\n",
      "Calculating time and steps to clean all cells...\n"
     ]
    },
    {
     "name": "stdout",
     "output_type": "stream",
     "text": [
      "[FINISHED AT]: 226353 steps\n",
      "[TIME]: 6.1299 seconds\n",
      "\n",
      "----------------------\n",
      "\n",
      "[CLEAN CELLS]\n",
      "[AGENTS]: 1\n",
      "\n",
      "Cleaning...\n",
      "[ITERATIONS]: 100\n",
      "[DIRTY CELLS LEFT]: 8942.0 (89.42%)\n",
      "[TIME]: 0.0 seconds\n",
      "\n",
      "Cleaning...\n",
      "[ITERATIONS]: 1000\n",
      "[DIRTY CELLS LEFT]: 8508.0 (85.08%)\n",
      "[TIME]: 0.0364 seconds\n",
      "\n",
      "Cleaning...\n",
      "[ITERATIONS]: 10000\n",
      "[DIRTY CELLS LEFT]: 5992.0 (59.92%)\n",
      "[TIME]: 0.285 seconds\n",
      "\n",
      "----------------------\n",
      "\n"
     ]
    }
   ],
   "source": [
    "NUM_VACUUMS = 1\n",
    "\n",
    "# Steps needed to clean all cells\n",
    "model = VacuumModel(NUM_VACUUMS, WIDTH, HEIGHT, DIRTY_CELLS_PERCENT)\n",
    "clean_all(model, NUM_VACUUMS)\n",
    "\n",
    "# For 100, 1000, 10000 iterations\n",
    "model = VacuumModel(NUM_VACUUMS, WIDTH, HEIGHT, DIRTY_CELLS_PERCENT)\n",
    "clean(model, ITERATIONS, NUM_VACUUMS)"
   ]
  },
  {
   "cell_type": "markdown",
   "metadata": {},
   "source": [
    "## Escenario 2\n",
    "* 2 agentes\n",
    "* 90% de celdas sucias."
   ]
  },
  {
   "cell_type": "code",
   "execution_count": 853,
   "metadata": {},
   "outputs": [
    {
     "name": "stdout",
     "output_type": "stream",
     "text": [
      "[CLEAN ALL CELLS]\n",
      "[AGENTS]: 2\n",
      "\n",
      "Calculating time and steps to clean all cells...\n",
      "[FINISHED AT]: 114005 steps\n",
      "[TIME]: 4.2617 seconds\n",
      "\n",
      "----------------------\n",
      "\n",
      "[CLEAN CELLS]\n",
      "[AGENTS]: 2\n",
      "\n",
      "Cleaning...\n",
      "[ITERATIONS]: 100\n",
      "[DIRTY CELLS LEFT]: 8938.0 (89.38%)\n",
      "[TIME]: 0.0156 seconds\n",
      "\n",
      "Cleaning...\n",
      "[ITERATIONS]: 1000\n",
      "[DIRTY CELLS LEFT]: 8246.0 (82.46%)\n",
      "[TIME]: 0.0312 seconds\n",
      "\n",
      "Cleaning...\n",
      "[ITERATIONS]: 10000\n",
      "[DIRTY CELLS LEFT]: 3596.0 (35.96%)\n",
      "[TIME]: 0.4383 seconds\n",
      "\n",
      "----------------------\n",
      "\n"
     ]
    }
   ],
   "source": [
    "NUM_VACUUMS = 2\n",
    "\n",
    "# Steps needed to clean all cells\n",
    "model = VacuumModel(NUM_VACUUMS, WIDTH, HEIGHT, DIRTY_CELLS_PERCENT)\n",
    "clean_all(model, NUM_VACUUMS)\n",
    "\n",
    "# For 100, 1000, 10000 iterations\n",
    "model = VacuumModel(NUM_VACUUMS, WIDTH, HEIGHT, DIRTY_CELLS_PERCENT)\n",
    "clean(model, ITERATIONS, NUM_VACUUMS)"
   ]
  },
  {
   "cell_type": "code",
   "execution_count": 855,
   "metadata": {},
   "outputs": [
    {
     "name": "stdout",
     "output_type": "stream",
     "text": [
      "[CLEAN ALL CELLS]\n",
      "[AGENTS]: 3\n",
      "\n",
      "Calculating time and steps to clean all cells...\n",
      "[FINISHED AT]: 65163 steps\n",
      "[TIME]: 3.5859 seconds\n",
      "\n",
      "----------------------\n",
      "\n",
      "[CLEAN ALL CELLS]\n",
      "[AGENTS]: 4\n",
      "\n",
      "Calculating time and steps to clean all cells...\n",
      "[FINISHED AT]: 153333 steps\n",
      "[TIME]: 10.5741 seconds\n",
      "\n",
      "----------------------\n",
      "\n",
      "[CLEAN ALL CELLS]\n",
      "[AGENTS]: 5\n",
      "\n",
      "Calculating time and steps to clean all cells...\n",
      "[FINISHED AT]: 65663 steps\n",
      "[TIME]: 5.4092 seconds\n",
      "\n",
      "----------------------\n",
      "\n",
      "[CLEAN ALL CELLS]\n",
      "[AGENTS]: 6\n",
      "\n",
      "Calculating time and steps to clean all cells...\n",
      "[FINISHED AT]: 40606 steps\n",
      "[TIME]: 3.9296 seconds\n",
      "\n",
      "----------------------\n",
      "\n",
      "[CLEAN ALL CELLS]\n",
      "[AGENTS]: 7\n",
      "\n",
      "Calculating time and steps to clean all cells...\n",
      "[FINISHED AT]: 69700 steps\n",
      "[TIME]: 8.0785 seconds\n",
      "\n",
      "----------------------\n",
      "\n",
      "[CLEAN ALL CELLS]\n",
      "[AGENTS]: 8\n",
      "\n",
      "Calculating time and steps to clean all cells...\n",
      "[FINISHED AT]: 42313 steps\n",
      "[TIME]: 5.6936 seconds\n",
      "\n",
      "----------------------\n",
      "\n",
      "[CLEAN ALL CELLS]\n",
      "[AGENTS]: 9\n",
      "\n",
      "Calculating time and steps to clean all cells...\n",
      "[FINISHED AT]: 44227 steps\n",
      "[TIME]: 6.3981 seconds\n",
      "\n",
      "----------------------\n",
      "\n",
      "[CLEAN ALL CELLS]\n",
      "[AGENTS]: 10\n",
      "\n",
      "Calculating time and steps to clean all cells...\n",
      "[FINISHED AT]: 51302 steps\n",
      "[TIME]: 7.8879 seconds\n",
      "\n",
      "----------------------\n",
      "\n"
     ]
    }
   ],
   "source": [
    "for i in range(3, 11):\n",
    "    NUM_VACUUMS = i\n",
    "    model = VacuumModel(NUM_VACUUMS, WIDTH, HEIGHT, DIRTY_CELLS_PERCENT)\n",
    "\n",
    "    clean_all(model, NUM_VACUUMS)"
   ]
  }
 ],
 "metadata": {
  "kernelspec": {
   "display_name": "Python 3 (ipykernel)",
   "language": "python",
   "name": "python3"
  },
  "language_info": {
   "codemirror_mode": {
    "name": "ipython",
    "version": 3
   },
   "file_extension": ".py",
   "mimetype": "text/x-python",
   "name": "python",
   "nbconvert_exporter": "python",
   "pygments_lexer": "ipython3",
   "version": "3.11.0"
  }
 },
 "nbformat": 4,
 "nbformat_minor": 5
}
