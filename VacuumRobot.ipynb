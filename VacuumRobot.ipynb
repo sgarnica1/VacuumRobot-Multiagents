{
 "cells": [
  {
   "cell_type": "markdown",
   "id": "10e2a6c8-b2f0-472d-bfe9-315142dafeec",
   "metadata": {},
   "source": [
    "# Robot de Limpieza Reactivo\n",
    "Este modelo estudia las estadísticas de un robot de limpieza reactivo, donde se recopila la siguiente información:\n",
    "* Tiempo necesario hasta que todas las celdas estén limpias (o se haya llegado al tiempo máximo).\n",
    "* Porcentaje de celdas limpias después del termino de la simulación.\n",
    "* Número de movimientos realizados por todos los agentes."
   ]
  },
  {
   "cell_type": "markdown",
   "id": "7c2b2f97-7cd5-45ed-9edf-0091db9e09e4",
   "metadata": {},
   "source": [
    "## Datos proporcionados\n",
    "* Habitación de MxN espacios\n",
    "* Número de agentes\n",
    "* Porcentaje de celdas inicialmente sucias\n",
    "* Tiempo máximo de ejecución"
   ]
  },
  {
   "cell_type": "markdown",
   "id": "1f5f0605-0fd2-4651-aeae-f663c36abd7a",
   "metadata": {},
   "source": [
    "## Reglas\n",
    "Las reglas del modelo son:\n",
    "* Inicializa las celdas sucias (ubicaciones aleatorias).\n",
    "* Todos los agentes empiezan en la celda [1,1].\n",
    "* En cada paso de tiempo:\n",
    "    * Si la celda está sucia, entonces aspira.\n",
    "    * Si la celda está limpia, el agente elije una dirección aleatoria para moverse (unas de las 8 celdas vecinas) y elije la acción de movimiento (si no puede moverse allí, permanecerá en la misma celda)\n",
    "    * Se ejecuta el tiempo máximo estable\n",
    "\n",
    "Para un espacio de 100x100, considera los siguientes escenarios:\n",
    "* Escenario 1: 1 agente, 90% de celdas sucias\n",
    "* Escenario 2. 2 agentes, 90% de celdas sucias\n",
    "\n",
    "Deberás resolver las siguientes preguntas:\n",
    "* ¿Cuántos pasos de simulación toma limpiar todo el espacio?\n",
    "* ¿Qué porcentaje de celdas sucias queda con los siguientes pasos de simulación: 100, 1000, 10,000?\n",
    "\n",
    "A continuación, determina cuál es la cantidad óptima de aspiradoras que debe de tener para realizar la limpieza en el menor tiempo posible. Considera que tenemos un máximo de 10 aspiradoras disponibles."
   ]
  },
  {
   "cell_type": "markdown",
   "id": "5767b7df-1b57-429e-b951-a0bce17782b7",
   "metadata": {},
   "source": [
    "## Imports\n",
    "\n",
    "Antes de empezar a crear el modelo del juego de la vida con multiagentes es necesario tener instalado los siguientes paquetes:\n",
    "- `python`: asegúrense de usar la versión 3+.\n",
    "- `mesa`: el framework de Python para el modelado de agentes.\n",
    "- `numpy`: es una biblioteca de Python para el manejo de matrices, arreglos, manipulación matemática, lógica y mucho más.\n",
    "- `matplotlib`: es una biblioteca para crear visualizaciones estáticas, animadas e interactivas en Python.\n",
    "\n",
    "Para poder modelar a los integrantes de nuestro sistema usando el framework de `mesa` es necesario importar dos clases: una para el modelo general, y otro para los agentes."
   ]
  },
  {
   "cell_type": "code",
   "execution_count": 509,
   "id": "c5c48704-8172-46b3-a284-ad9493affcc1",
   "metadata": {},
   "outputs": [],
   "source": [
    "from mesa import Agent, Model\n",
    "from mesa.time import RandomActivation\n",
    "from mesa.space import MultiGrid\n",
    "from mesa.datacollection import DataCollector\n",
    "from mesa.batchrunner import batch_run\n",
    "\n",
    "# Importamos los siguientes paquetes para el mejor manejo de valores numéricos.\n",
    "import numpy as np\n",
    "\n",
    "# Definimos otros paquetes que vamos a usar para medir el tiempo de ejecución de nuestro algoritmo.\n",
    "import time as tm\n",
    "import datetime"
   ]
  },
  {
   "cell_type": "code",
   "execution_count": 510,
   "id": "1276341f-145a-4524-ba8d-e5310e9291d1",
   "metadata": {},
   "outputs": [],
   "source": [
    "class VacuumAgent(Agent):\n",
    "    def __init__(self, id, model, x, y):\n",
    "        super().__init__(id, model)\n",
    "        self.position = (x, y)\n",
    "        self.movements = 0\n",
    "\n",
    "    def step(self):\n",
    "        x_pos = self.position[0]\n",
    "        y_pos = self.position[1]\n",
    "\n",
    "        # Clean cell\n",
    "        if model.dirty_cells[x_pos][y_pos] == 1:\n",
    "            model.dirty_cells[x_pos][y_pos] = 0\n",
    "\n",
    "        # Get new position\n",
    "        possible_cells = self.model.grid.get_neighborhood(self.position, moore=True, include_center = False)\n",
    "        new_position = self.random.choice(possible_cells)\n",
    "        cellmate = self.model.grid.get_cell_list_contents([new_position])\n",
    "\n",
    "        if cellmate:\n",
    "            return\n",
    "\n",
    "        self.movements += 1\n",
    "        self.position = new_position\n",
    "        self.model.grid.move_agent(self, self.position)"
   ]
  },
  {
   "cell_type": "code",
   "execution_count": 511,
   "id": "07bb03c4-c4ef-49c6-a819-18446a468e15",
   "metadata": {},
   "outputs": [],
   "source": [
    "def get_vacuums(model):\n",
    "    return np.asarray([agent.position for agent in model.schedule.agents])"
   ]
  },
  {
   "cell_type": "code",
   "execution_count": 512,
   "id": "cd1a5cd9-6ab4-4ad3-ad14-db3336d5e82e",
   "metadata": {},
   "outputs": [],
   "source": [
    "class VacuumModel(Model):\n",
    "    def __init__(self, num_agents, width, height, dirty_cells_percent):\n",
    "        self.schedule = RandomActivation(self)\n",
    "        self.grid = MultiGrid(width, height, torus = False)\n",
    "        self.datacollector = DataCollector(model_reporters={\"Vacuums\": get_vacuums})\n",
    "        self.dirty_cells = np.zeros((width, height))\n",
    "        self.dirty_cells_percent = dirty_cells_percent\n",
    "\n",
    "        # Initialize dirty cells\n",
    "        init_dc = 0\n",
    "        while init_dc < int(width * height * (dirty_cells_percent / 100)):\n",
    "            x = int(np.random.rand() * width)\n",
    "            y = int(np.random.rand() * height)\n",
    "            if self.dirty_cells[x][y] == 0:\n",
    "                self.dirty_cells[x][y] = 1\n",
    "                init_dc += 1\n",
    "\n",
    "        # Create agents and place them in [1, 1]\n",
    "        for i in range(num_agents):\n",
    "            x = 1\n",
    "            y = 1\n",
    "            agent = VacuumAgent(i, self, x, y)\n",
    "            self.schedule.add(agent)\n",
    "            self.grid.place_agent(agent, (x, y))\n",
    "\n",
    "    def step(self):\n",
    "        self.datacollector.collect(self)\n",
    "        self.schedule.step()\n",
    "\n",
    "    def __str__(self):\n",
    "        total_cells = self.grid.width * self.grid.height\n",
    "        initial_dirty_cells = int(total_cells * (self.dirty_cells_percent / 100))\n",
    "        final_dirty_cells = int(self.dirty_cells.sum())\n",
    "        final_dirty_cells_percent = round(((final_dirty_cells / total_cells) * 100), 2)\n",
    "        clean_cells = int(total_cells - self.dirty_cells.sum())\n",
    "        clean_cells_percent = round(((clean_cells / total_cells) * 100), 2)\n",
    "        movements = lambda: sum([agent.movements for agent in self.schedule.agents])\n",
    "\n",
    "        aux = \"\"\n",
    "        aux += f\"[TOTAL CELLS]: {total_cells}\\n\"\n",
    "        aux += f\"[DIRTY CELLS]: {initial_dirty_cells} ({self.dirty_cells_percent}%)\\n\"\n",
    "        aux += f\"\\nAFTER SIMULATION\\n\"\n",
    "        aux += f\"[DIRTY CELLS]: {final_dirty_cells} ({final_dirty_cells_percent}%)\\n\"\n",
    "        aux += f\"[CLEAN CELLS]: {clean_cells} ({clean_cells_percent}%)\\n\"\n",
    "        aux += f\"[MOVEMENTS]: {movements()}\\n\"\n",
    "\n",
    "        return str(aux)"
   ]
  },
  {
   "cell_type": "code",
   "execution_count": 513,
   "id": "4a6a36fa-b62d-4043-8529-91bd2038bca7",
   "metadata": {},
   "outputs": [],
   "source": [
    "WIDTH = 100\n",
    "HEIGHT = 100\n",
    "DIRTY_CELLS_PERCENT = 90"
   ]
  },
  {
   "cell_type": "code",
   "execution_count": 514,
   "metadata": {},
   "outputs": [],
   "source": [
    "def clean(model, iterations, num_vacuums):\n",
    "  for itr in iterations:\n",
    "    time = tm.time()\n",
    "\n",
    "    # Print labels\n",
    "    print(f\"[ITERATIONS]: {itr}\")\n",
    "    print(f\"[AGENTS]: {num_vacuums}\")\n",
    "\n",
    "    for _ in range(itr):\n",
    "        model.step()\n",
    "\n",
    "    # Print model\n",
    "    print(model)\n",
    "    print(f\"[TIME]: {round(tm.time() - time, 4)} seconds\")\n",
    "    print(f\"----------------------\\n\")"
   ]
  },
  {
   "cell_type": "markdown",
   "metadata": {},
   "source": [
    "## Test 1\n",
    "* NUM_VACUUMS = 1"
   ]
  },
  {
   "cell_type": "code",
   "execution_count": 515,
   "id": "1f4b94bc-e8c3-44a3-bec3-7f2099dd004f",
   "metadata": {},
   "outputs": [],
   "source": [
    "NUM_VACUUMS = 1\n",
    "model = VacuumModel(NUM_VACUUMS, WIDTH, HEIGHT, DIRTY_CELLS_PERCENT)"
   ]
  },
  {
   "cell_type": "code",
   "execution_count": 516,
   "id": "190e3b75-fc05-41b0-b017-e8fe32d197c5",
   "metadata": {},
   "outputs": [
    {
     "name": "stdout",
     "output_type": "stream",
     "text": [
      "[ITERATIONS]: 100\n",
      "[AGENTS]: 1\n",
      "[TOTAL CELLS]: 10000\n",
      "[DIRTY CELLS]: 9000 (90%)\n",
      "\n",
      "AFTER SIMULATION\n",
      "[DIRTY CELLS]: 8960 (89.6%)\n",
      "[CLEAN CELLS]: 1040 (10.4%)\n",
      "[MOVEMENTS]: 100\n",
      "\n",
      "[TIME]: 0.003 seconds\n",
      "----------------------\n",
      "\n",
      "[ITERATIONS]: 1000\n",
      "[AGENTS]: 1\n",
      "[TOTAL CELLS]: 10000\n",
      "[DIRTY CELLS]: 9000 (90%)\n",
      "\n",
      "AFTER SIMULATION\n",
      "[DIRTY CELLS]: 8583 (85.83%)\n",
      "[CLEAN CELLS]: 1417 (14.17%)\n",
      "[MOVEMENTS]: 1100\n",
      "\n",
      "[TIME]: 0.0143 seconds\n",
      "----------------------\n",
      "\n",
      "[ITERATIONS]: 10000\n",
      "[AGENTS]: 1\n",
      "[TOTAL CELLS]: 10000\n",
      "[DIRTY CELLS]: 9000 (90%)\n",
      "\n",
      "AFTER SIMULATION\n",
      "[DIRTY CELLS]: 6645 (66.45%)\n",
      "[CLEAN CELLS]: 3355 (33.55%)\n",
      "[MOVEMENTS]: 11100\n",
      "\n",
      "[TIME]: 0.1621 seconds\n",
      "----------------------\n",
      "\n"
     ]
    }
   ],
   "source": [
    "ITERATIONS = [100,1000,10000]\n",
    "clean(model, ITERATIONS, NUM_VACUUMS)"
   ]
  },
  {
   "cell_type": "markdown",
   "metadata": {},
   "source": [
    "## Test 2\n",
    "* NUM_VACUUMS = 2"
   ]
  },
  {
   "cell_type": "code",
   "execution_count": 517,
   "metadata": {},
   "outputs": [],
   "source": [
    "NUM_VACUUMS = 2\n",
    "model = VacuumModel(NUM_VACUUMS, WIDTH, HEIGHT, DIRTY_CELLS_PERCENT)"
   ]
  },
  {
   "cell_type": "code",
   "execution_count": 518,
   "metadata": {},
   "outputs": [
    {
     "name": "stdout",
     "output_type": "stream",
     "text": [
      "[ITERATIONS]: 100\n",
      "[AGENTS]: 2\n",
      "[TOTAL CELLS]: 10000\n",
      "[DIRTY CELLS]: 9000 (90%)\n",
      "\n",
      "AFTER SIMULATION\n",
      "[DIRTY CELLS]: 8932 (89.32%)\n",
      "[CLEAN CELLS]: 1068 (10.68%)\n",
      "[MOVEMENTS]: 196\n",
      "\n",
      "[TIME]: 0.0061 seconds\n",
      "----------------------\n",
      "\n",
      "[ITERATIONS]: 1000\n",
      "[AGENTS]: 2\n",
      "[TOTAL CELLS]: 10000\n",
      "[DIRTY CELLS]: 9000 (90%)\n",
      "\n",
      "AFTER SIMULATION\n",
      "[DIRTY CELLS]: 8355 (83.55%)\n",
      "[CLEAN CELLS]: 1645 (16.45%)\n",
      "[MOVEMENTS]: 2194\n",
      "\n",
      "[TIME]: 0.0258 seconds\n",
      "----------------------\n",
      "\n",
      "[ITERATIONS]: 10000\n",
      "[AGENTS]: 2\n",
      "[TOTAL CELLS]: 10000\n",
      "[DIRTY CELLS]: 9000 (90%)\n",
      "\n",
      "AFTER SIMULATION\n",
      "[DIRTY CELLS]: 5116 (51.16%)\n",
      "[CLEAN CELLS]: 4884 (48.84%)\n",
      "[MOVEMENTS]: 22185\n",
      "\n",
      "[TIME]: 0.2745 seconds\n",
      "----------------------\n",
      "\n"
     ]
    }
   ],
   "source": [
    "ITERATIONS = [100,1000,10000]\n",
    "clean(model, ITERATIONS, NUM_VACUUMS)"
   ]
  }
 ],
 "metadata": {
  "kernelspec": {
   "display_name": "Python 3 (ipykernel)",
   "language": "python",
   "name": "python3"
  },
  "language_info": {
   "codemirror_mode": {
    "name": "ipython",
    "version": 3
   },
   "file_extension": ".py",
   "mimetype": "text/x-python",
   "name": "python",
   "nbconvert_exporter": "python",
   "pygments_lexer": "ipython3",
   "version": "3.11.0"
  }
 },
 "nbformat": 4,
 "nbformat_minor": 5
}
