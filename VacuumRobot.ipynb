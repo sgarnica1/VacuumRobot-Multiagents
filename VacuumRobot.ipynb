{
 "cells": [
  {
   "cell_type": "markdown",
   "id": "10e2a6c8-b2f0-472d-bfe9-315142dafeec",
   "metadata": {},
   "source": [
    "# Robot de Limpieza Reactivo\n",
    "Este modelo estudia las estadísticas de un robot de limpieza reactivo, donde se recopila la siguiente información:\n",
    "* Tiempo necesario hasta que todas las celdas estén limpias (o se haya llegado al tiempo máximo).\r",
    "* Porcentaje de celdas limpias después del termino de la simulación.\n",
    "* \n",
    "Número de movimientos realizados por todos los agentes."
   ]
  },
  {
   "cell_type": "markdown",
   "id": "7c2b2f97-7cd5-45ed-9edf-0091db9e09e4",
   "metadata": {},
   "source": [
    "## Datos proporcionados\n",
    "* Habitación de MxN espacios\n",
    "* Número de agentes\n",
    "* Porcentaje de celdar inicialmente sucias\n",
    "* Tiempo máximo de ejecución"
   ]
  },
  {
   "cell_type": "markdown",
   "id": "1f5f0605-0fd2-4651-aeae-f663c36abd7a",
   "metadata": {},
   "source": [
    "## Reglas\n",
    "Las reglas del modelo son:\n",
    "* Inicializa las celdas sucias (ubicaciones aleatorias).\r",
    "* Todos los agentes empiezan en la celda [1,1].\r",
    "* En cada paso de tiempo:\r",
    "    * Si la celda está sucia, entonces aspira.\n",
    "    * Si la celda está limpia, el agente elije una dirección aleatoria para moverse (unas de las 8 celdas vecinas) y elije la acción de movimiento (si no puede moverse allí, permanecerá en la misma celda)\n",
    "    * Se ejecuta el tiempo máximo estable\n",
    "\n",
    "Analiza cómo la cantidad de agentes impacta el tiempo dedicado, así como la cantidad de movimientos realizados.cido."
   ]
  },
  {
   "cell_type": "markdown",
   "id": "5767b7df-1b57-429e-b951-a0bce17782b7",
   "metadata": {},
   "source": [
    "## Imports\n",
    "\n",
    "Antes de empezar a crear el modelo del juego de la vida con multiagentes es necesario tener instalado los siguientes paquetes:\n",
    "- `python`: asegúrense de usar la versión 3+.\n",
    "- `mesa`: el framework de Python para el modelado de agentes.\n",
    "- `numpy`: es una biblioteca de Python para el manejo de matrices, arreglos, manipulación matemática, lógica y mucho más.\n",
    "- `matplotlib`: es una biblioteca para crear visualizaciones estáticas, animadas e interactivas en Python.\n",
    "\n",
    "Para poder modelar a los integrantes de nuestro sistema usando el framework de `mesa` es necesario importar dos clases: una para el modelo general, y otro para los agentes."
   ]
  },
  {
   "cell_type": "code",
   "execution_count": null,
   "id": "c5c48704-8172-46b3-a284-ad9493affcc1",
   "metadata": {},
   "outputs": [],
   "source": [
    "from mesa import Agent, Model\n",
    "from mesa.time import RandomActivation\n",
    "from mesa.space import MultiGrid\n",
    "from mesa.datacollection import DataCollector\n",
    "from mesa.batchrunner import batch_run\n",
    "\n",
    "import numpy as np\n",
    "import pandas as pd\n",
    "\n",
    "# For a jupyter notebook add the following line:\n",
    "%matplotlib inline\n",
    "# The below is needed for both notebooks and scripts\n",
    "import matplotlib.pyplot as plt"
   ]
  }
 ],
 "metadata": {
  "kernelspec": {
   "display_name": "Python 3 (ipykernel)",
   "language": "python",
   "name": "python3"
  },
  "language_info": {
   "codemirror_mode": {
    "name": "ipython",
    "version": 3
   },
   "file_extension": ".py",
   "mimetype": "text/x-python",
   "name": "python",
   "nbconvert_exporter": "python",
   "pygments_lexer": "ipython3",
   "version": "3.11.0"
  }
 },
 "nbformat": 4,
 "nbformat_minor": 5
}
